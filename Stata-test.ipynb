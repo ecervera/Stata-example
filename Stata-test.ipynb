{
 "cells": [
  {
   "cell_type": "code",
   "execution_count": null,
   "id": "6e7cebcb-3e41-4b96-8ace-76cf30493630",
   "metadata": {},
   "outputs": [],
   "source": [
    "display(\"hello\")"
   ]
  },
  {
   "cell_type": "code",
   "execution_count": null,
   "id": "2aafa402-38b9-410e-8a4f-67119a3f3020",
   "metadata": {},
   "outputs": [],
   "source": [
    "use \"https://stats.idre.ucla.edu/stat/stata/notes/hsb2\", clear\n",
    "scatter read math, title(\"Reading score vs Math score\")\n",
    "scatter math science, title(\"Math score vs Science score\")"
   ]
  },
  {
   "cell_type": "code",
   "execution_count": null,
   "id": "d96c2f72-3223-466f-b90d-353589ac53b9",
   "metadata": {},
   "outputs": [],
   "source": []
  }
 ],
 "metadata": {
  "kernelspec": {
   "display_name": "Stata",
   "language": "stata",
   "name": "stata"
  },
  "language_info": {
   "codemirror_mode": "stata",
   "file_extension": ".do",
   "mimetype": "text/x-stata",
   "name": "stata",
   "version": "15.1"
  }
 },
 "nbformat": 4,
 "nbformat_minor": 5
}
