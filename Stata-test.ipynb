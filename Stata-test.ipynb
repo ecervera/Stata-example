{
 "cells": [
  {
   "cell_type": "code",
   "execution_count": null,
   "id": "6e7cebcb-3e41-4b96-8ace-76cf30493630",
   "metadata": {},
   "outputs": [],
   "source": [
    "display(\"hello\")"
   ]
  },
  {
   "cell_type": "code",
   "execution_count": null,
   "id": "2aafa402-38b9-410e-8a4f-67119a3f3020",
   "metadata": {},
   "outputs": [],
   "source": [
    "use \"https://stats.idre.ucla.edu/stat/stata/notes/hsb2\", clear\n",
    "scatter read math, title(\"Reading score vs Math score\")\n",
    "scatter math science, title(\"Math score vs Science score\")"
   ]
  },
  {
   "cell_type": "code",
   "execution_count": 1,
   "id": "d96c2f72-3223-466f-b90d-353589ac53b9",
   "metadata": {},
   "outputs": [
    {
     "name": "stdout",
     "output_type": "stream",
     "text": [
      "(1978 automobile data)\n"
     ]
    }
   ],
   "source": [
    "sysuse auto.dta"
   ]
  },
  {
   "cell_type": "code",
   "execution_count": 2,
   "id": "1f66dca6-0c5b-49e8-932c-9469b2bca153",
   "metadata": {},
   "outputs": [
    {
     "name": "stdout",
     "output_type": "stream",
     "text": [
      "\n",
      "           |                     Headroom (in.)\n",
      "Car origin |       1.5        2.0        2.5        3.0        3.5 |     Total\n",
      "-----------+-------------------------------------------------------+----------\n",
      "  Domestic |         3         10          4          7         13 |        52 \n",
      "   Foreign |         1          3         10          6          2 |        22 \n",
      "-----------+-------------------------------------------------------+----------\n",
      "     Total |         4         13         14         13         15 |        74 \n",
      "\n",
      "\n",
      "           |          Headroom (in.)\n",
      "Car origin |       4.0        4.5        5.0 |     Total\n",
      "-----------+---------------------------------+----------\n",
      "  Domestic |        10          4          1 |        52 \n",
      "   Foreign |         0          0          0 |        22 \n",
      "-----------+---------------------------------+----------\n",
      "     Total |        10          4          1 |        74 \n"
     ]
    }
   ],
   "source": [
    "tabulate foreign headroom"
   ]
  },
  {
   "cell_type": "code",
   "execution_count": null,
   "id": "0eb28384-1d42-49ac-833e-40d1d50271e2",
   "metadata": {},
   "outputs": [],
   "source": []
  }
 ],
 "metadata": {
  "kernelspec": {
   "display_name": "Stata",
   "language": "stata",
   "name": "stata"
  },
  "language_info": {
   "codemirror_mode": "stata",
   "file_extension": ".do",
   "mimetype": "text/x-stata",
   "name": "stata",
   "version": "15.1"
  }
 },
 "nbformat": 4,
 "nbformat_minor": 5
}
